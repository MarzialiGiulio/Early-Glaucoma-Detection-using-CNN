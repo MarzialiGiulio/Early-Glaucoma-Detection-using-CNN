{
 "cells": [
  {
   "cell_type": "code",
   "execution_count": 60,
   "metadata": {},
   "outputs": [],
   "source": [
    "import matplotlib.pyplot as plt\n",
    "import numpy as np\n",
    "import os\n",
    "import shutil\n",
    "import PIL\n",
    "import tensorflow as tf\n",
    "from tensorflow import keras\n",
    "import seaborn as sns\n",
    "import random\n",
    "from tensorflow.keras import layers\n",
    "from keras.models import load_model\n",
    "from keras.preprocessing import image\n",
    "from tensorflow.keras.preprocessing.image import load_img, img_to_array"
   ]
  },
  {
   "cell_type": "code",
   "execution_count": 61,
   "metadata": {},
   "outputs": [
    {
     "name": "stdout",
     "output_type": "stream",
     "text": [
      "c:\\Users\\marzi\\Desktop\\TESI\n"
     ]
    }
   ],
   "source": [
    "current_dir = os.getcwd()\n",
    "print(current_dir)"
   ]
  },
  {
   "cell_type": "code",
   "execution_count": 62,
   "metadata": {},
   "outputs": [
    {
     "name": "stdout",
     "output_type": "stream",
     "text": [
      "C://Users//marzi//Documents//LAG_dataset\n"
     ]
    }
   ],
   "source": [
    "base_dir = \"C://Users//marzi//Documents//LAG_dataset\"\n",
    "print(base_dir)"
   ]
  },
  {
   "cell_type": "code",
   "execution_count": 63,
   "metadata": {},
   "outputs": [
    {
     "name": "stdout",
     "output_type": "stream",
     "text": [
      "Divisione completata!\n"
     ]
    }
   ],
   "source": [
    "import os\n",
    "import shutil\n",
    "from sklearn.model_selection import train_test_split\n",
    "\n",
    "data_dir = current_dir + \"//data//LAG\"\n",
    "train_dir = data_dir + \"//train\"\n",
    "test_dir = data_dir + \"//test\" \n",
    "val_dir = data_dir + \"//val\"\n",
    "\n",
    "# Definisci la proporzione di suddivisione (es: 0.8 per l'80% nel train e il 20% nel test)\n",
    "train_ratio = 0.8 \n",
    "\n",
    "# Crea le cartelle train e test se non esistono \n",
    "os.makedirs(data_dir, exist_ok=True)\n",
    "os.makedirs(train_dir, exist_ok=True) \n",
    "os.makedirs(test_dir, exist_ok=True) \n",
    "os.makedirs(val_dir, exist_ok=True)\n",
    "\n",
    "# Per ogni classe nella cartella dataset \n",
    "for class_name in os.listdir(base_dir): \n",
    "    class_path = os.path.join(base_dir, class_name) \n",
    "    if os.path.isdir(class_path): \n",
    "        # Crea le sottocartelle per ogni classe nelle cartelle train e test \n",
    "        os.makedirs(os.path.join(train_dir, class_name), exist_ok=True) \n",
    "        os.makedirs(os.path.join(test_dir, class_name), exist_ok=True) \n",
    "        os.makedirs(os.path.join(val_dir, class_name), exist_ok=True)\n",
    "        # Ottieni la lista delle immagini \n",
    "        images = os.listdir(class_path) \n",
    "        # Dividi in train e test \n",
    "        train_images, test_images = train_test_split(images, train_size=train_ratio, random_state=42) \n",
    "        # Sposta le immagini nella rispettiva cartella \n",
    "        for image in train_images: \n",
    "            shutil.copy(os.path.join(class_path, image), os.path.join(train_dir, class_name, image)) \n",
    "        for image in test_images: \n",
    "            shutil.copy(os.path.join(class_path, image), os.path.join(test_dir, class_name, image)) \n",
    "print(\"Divisione completata!\")"
   ]
  },
  {
   "cell_type": "code",
   "execution_count": 64,
   "metadata": {},
   "outputs": [
    {
     "name": "stdout",
     "output_type": "stream",
     "text": [
      "Found 3882 images belonging to 2 classes.\n",
      "Found 972 images belonging to 2 classes.\n"
     ]
    }
   ],
   "source": [
    "\n",
    "from tensorflow.keras.preprocessing.image import ImageDataGenerator\n",
    "from keras.applications.vgg16 import preprocess_input\n",
    "datagen_train = ImageDataGenerator(preprocessing_function=preprocess_input,\n",
    "shear_range = 0.1,\n",
    "zoom_range = 0.1,\n",
    "rotation_range = 20,\n",
    "width_shift_range = 0.1,\n",
    "height_shift_range = 0.1,\n",
    "horizontal_flip = False,\n",
    "vertical_flip = False,\n",
    "fill_mode='nearest')\n",
    "\n",
    "datagen = ImageDataGenerator(preprocessing_function=preprocess_input)\n",
    "\n",
    "train_ds = datagen_train.flow_from_directory(\n",
    "    'data//LAG//train',\n",
    "    class_mode='categorical',\n",
    "    shuffle=False)\n",
    "\n",
    "test_ds = datagen.flow_from_directory(\n",
    "    'data//LAG//test',\n",
    "    class_mode='categorical',\n",
    "    shuffle=False)"
   ]
  },
  {
   "cell_type": "code",
   "execution_count": 65,
   "metadata": {},
   "outputs": [
    {
     "name": "stdout",
     "output_type": "stream",
     "text": [
      "3882\n"
     ]
    }
   ],
   "source": [
    "print(train_ds.samples)"
   ]
  },
  {
   "cell_type": "code",
   "execution_count": 66,
   "metadata": {},
   "outputs": [],
   "source": [
    "# bilanciamento del dataset\n",
    "from sklearn.utils import class_weight\n",
    "import numpy as np\n",
    "\n",
    "# Calcola i pesi delle classi\n",
    "labels = train_ds.classes\n",
    "class_weights = class_weight.compute_class_weight(class_weight='balanced', classes=np.unique(labels), y=labels)\n",
    "class_weights = dict(enumerate(class_weights))\n"
   ]
  },
  {
   "cell_type": "code",
   "execution_count": 67,
   "metadata": {},
   "outputs": [
    {
     "name": "stderr",
     "output_type": "stream",
     "text": [
      "Clipping input data to the valid range for imshow with RGB data ([0..1] for floats or [0..255] for integers). Got range [-123.68..131.32].\n"
     ]
    },
    {
     "data": {
      "image/png": "[encoded data removed]",
      "text/plain": [
       "<Figure size 640x480 with 1 Axes>"
      ]
     },
     "metadata": {},
     "output_type": "display_data"
    }
   ],
   "source": [
    "# Retrieve a batch of images and labels\n",
    "images, labels = next(train_ds)\n",
    "\n",
    "# Display the first image in the batch\n",
    "plt.imshow(images[0])\n",
    "plt.title('rgb')\n",
    "plt.axis('off')  # Turn off axis\n",
    "plt.show()"
   ]
  },
  {
   "cell_type": "code",
   "execution_count": 68,
   "metadata": {},
   "outputs": [],
   "source": [
    "# from keras.models import Sequential\n",
    "# from keras.layers import Conv2D\n",
    "# from keras.layers import MaxPooling2D\n",
    "# from keras.layers import Flatten\n",
    "# from keras.layers import Dense,Dropout\n",
    "# from keras.layers import BatchNormalization\n",
    "\n",
    "# # Initialising the CNN\n",
    "# classifier = Sequential()\n",
    "# # Step 1 - Adding Convolution layer\n",
    "# classifier.add(Conv2D(32, (3, 3), input_shape = (256,256, 3), activation = 'relu'))\n",
    "\n",
    "# # Step 2 - Adding MaxPooling layers\n",
    "# classifier.add(MaxPooling2D(pool_size = (2, 2)))\n",
    "# # Adding a second convolutional layer\n",
    "# classifier.add(Conv2D(32, (3, 3), activation = 'relu'))\n",
    "# classifier.add(MaxPooling2D(pool_size = (2, 2)))\n",
    "\n",
    "# # Step 3 - Flattening\n",
    "# classifier.add(Flatten())\n",
    "\n",
    "# # Step 4 - Full connection\n",
    "# classifier.add(Dense(units = 512, activation = 'relu'))\n",
    "# classifier.add(BatchNormalization()),\n",
    "# classifier.add(Dense(256,activation='relu')),\n",
    "# classifier.add(Dropout(0.25)),\n",
    "# classifier.add(Dense(units = 2, activation = 'softmax'))\n",
    "\n",
    "# # Compiling the CNN\n",
    "# classifier.compile(optimizer = 'adam', loss = 'categorical_crossentropy', metrics = ['accuracy'])"
   ]
  },
  {
   "cell_type": "code",
   "execution_count": 69,
   "metadata": {},
   "outputs": [],
   "source": [
    "import tensorflow as tf\n",
    "from tensorflow.keras.applications import VGG16\n",
    "from tensorflow.keras.models import Sequential\n",
    "from tensorflow.keras.layers import Flatten, Dense, Dropout, BatchNormalization\n",
    "from tensorflow.keras.optimizers import RMSprop, Adam\n",
    "from tensorflow.keras.regularizers import l2\n",
    "from tensorflow.keras.activations import silu\n",
    "\n",
    "# Carica il modello VGG16 pre-addestrato senza i livelli fully connected alla fine\n",
    "base_model = VGG16(weights='imagenet', include_top=False, input_shape=(256, 256, 3))\n",
    "\n",
    "model = Sequential()\n",
    "\n",
    "# Congela i pesi del modello base\n",
    "for layer in base_model.layers:\n",
    "    layer.trainable = False\n",
    "\n",
    "model.add(base_model)\n",
    "\n",
    "# # Aggiungi i tuoi livelli fully connected alla fine del modello base\n",
    "# model.add(Flatten())\n",
    "# model.add(Dense(256, activation=silu))\n",
    "# model.add(BatchNormalization())\n",
    "# model.add(Dropout(0.3))\n",
    "# model.add(Dense(2, activation='softmax'))  # 1 neurone di output con attivazione sigmoid per 2 classi\n",
    "\n",
    "# Full connection\n",
    "model.add(Flatten())\n",
    "model.add(Dense(units = 1028, activation = 'relu'))\n",
    "model.add(BatchNormalization()),\n",
    "model.add(Dense(512,activation='relu')),\n",
    "model.add(Dropout(0.25)),\n",
    "model.add(Dense(units = 2, activation = 'softmax'))\n",
    "\n",
    "# Compila il modello\n",
    "learning_rate = 0.00001\n",
    "model.compile(optimizer=Adam(learning_rate=learning_rate), loss='categorical_crossentropy', metrics=['accuracy'])"
   ]
  },
  {
   "cell_type": "code",
   "execution_count": 70,
   "metadata": {},
   "outputs": [
    {
     "name": "stdout",
     "output_type": "stream",
     "text": [
      "Epoch 1/25\n"
     ]
    },
    {
     "name": "stderr",
     "output_type": "stream",
     "text": [
      "c:\\Users\\marzi\\AppData\\Local\\Programs\\Python\\Python312\\Lib\\site-packages\\keras\\src\\trainers\\data_adapters\\py_dataset_adapter.py:121: UserWarning: Your `PyDataset` class should call `super().__init__(**kwargs)` in its constructor. `**kwargs` can include `workers`, `use_multiprocessing`, `max_queue_size`. Do not pass these arguments to `fit()`, as they will be ignored.\n",
      "  self._warn_if_super_not_called()\n"
     ]
    },
    {
     "name": "stdout",
     "output_type": "stream",
     "text": [
      "\u001b[1m122/122\u001b[0m \u001b[32m━━━━━━━━━━━━━━━━━━━━\u001b[0m\u001b[37m\u001b[0m \u001b[1m388s\u001b[0m 3s/step - accuracy: 0.5403 - loss: 0.8874 - val_accuracy: 0.6111 - val_loss: 0.7205\n",
      "Epoch 2/25\n",
      "\u001b[1m122/122\u001b[0m \u001b[32m━━━━━━━━━━━━━━━━━━━━\u001b[0m\u001b[37m\u001b[0m \u001b[1m366s\u001b[0m 3s/step - accuracy: 0.6329 - loss: 0.7265 - val_accuracy: 0.6512 - val_loss: 0.6221\n",
      "Epoch 3/25\n",
      "\u001b[1m122/122\u001b[0m \u001b[32m━━━━━━━━━━━━━━━━━━━━\u001b[0m\u001b[37m\u001b[0m \u001b[1m356s\u001b[0m 3s/step - accuracy: 0.7128 - loss: 0.5695 - val_accuracy: 0.6934 - val_loss: 0.5592\n",
      "Epoch 4/25\n",
      "\u001b[1m122/122\u001b[0m \u001b[32m━━━━━━━━━━━━━━━━━━━━\u001b[0m\u001b[37m\u001b[0m \u001b[1m355s\u001b[0m 3s/step - accuracy: 0.8128 - loss: 0.4193 - val_accuracy: 0.7088 - val_loss: 0.5311\n",
      "Epoch 5/25\n",
      "\u001b[1m122/122\u001b[0m \u001b[32m━━━━━━━━━━━━━━━━━━━━\u001b[0m\u001b[37m\u001b[0m \u001b[1m356s\u001b[0m 3s/step - accuracy: 0.8781 - loss: 0.3344 - val_accuracy: 0.7171 - val_loss: 0.5095\n",
      "Epoch 6/25\n",
      "\u001b[1m122/122\u001b[0m \u001b[32m━━━━━━━━━━━━━━━━━━━━\u001b[0m\u001b[37m\u001b[0m \u001b[1m356s\u001b[0m 3s/step - accuracy: 0.9034 - loss: 0.2728 - val_accuracy: 0.7263 - val_loss: 0.4960\n",
      "Epoch 7/25\n",
      "\u001b[1m122/122\u001b[0m \u001b[32m━━━━━━━━━━━━━━━━━━━━\u001b[0m\u001b[37m\u001b[0m \u001b[1m356s\u001b[0m 3s/step - accuracy: 0.9372 - loss: 0.2002 - val_accuracy: 0.7356 - val_loss: 0.4857\n",
      "Epoch 8/25\n",
      "\u001b[1m122/122\u001b[0m \u001b[32m━━━━━━━━━━━━━━━━━━━━\u001b[0m\u001b[37m\u001b[0m \u001b[1m356s\u001b[0m 3s/step - accuracy: 0.9481 - loss: 0.1927 - val_accuracy: 0.7490 - val_loss: 0.4866\n",
      "Epoch 9/25\n",
      "\u001b[1m122/122\u001b[0m \u001b[32m━━━━━━━━━━━━━━━━━━━━\u001b[0m\u001b[37m\u001b[0m \u001b[1m356s\u001b[0m 3s/step - accuracy: 0.9608 - loss: 0.1475 - val_accuracy: 0.7706 - val_loss: 0.4683\n",
      "Epoch 10/25\n",
      "\u001b[1m122/122\u001b[0m \u001b[32m━━━━━━━━━━━━━━━━━━━━\u001b[0m\u001b[37m\u001b[0m \u001b[1m356s\u001b[0m 3s/step - accuracy: 0.9531 - loss: 0.1490 - val_accuracy: 0.7665 - val_loss: 0.4512\n",
      "Epoch 11/25\n",
      "\u001b[1m122/122\u001b[0m \u001b[32m━━━━━━━━━━━━━━━━━━━━\u001b[0m\u001b[37m\u001b[0m \u001b[1m356s\u001b[0m 3s/step - accuracy: 0.9686 - loss: 0.1154 - val_accuracy: 0.7809 - val_loss: 0.4401\n",
      "Epoch 12/25\n",
      "\u001b[1m122/122\u001b[0m \u001b[32m━━━━━━━━━━━━━━━━━━━━\u001b[0m\u001b[37m\u001b[0m \u001b[1m356s\u001b[0m 3s/step - accuracy: 0.9734 - loss: 0.1030 - val_accuracy: 0.7788 - val_loss: 0.4658\n",
      "Epoch 13/25\n",
      "\u001b[1m122/122\u001b[0m \u001b[32m━━━━━━━━━━━━━━━━━━━━\u001b[0m\u001b[37m\u001b[0m \u001b[1m356s\u001b[0m 3s/step - accuracy: 0.9748 - loss: 0.0886 - val_accuracy: 0.7973 - val_loss: 0.4249\n",
      "Epoch 14/25\n",
      "\u001b[1m122/122\u001b[0m \u001b[32m━━━━━━━━━━━━━━━━━━━━\u001b[0m\u001b[37m\u001b[0m \u001b[1m356s\u001b[0m 3s/step - accuracy: 0.9867 - loss: 0.0733 - val_accuracy: 0.7984 - val_loss: 0.4264\n",
      "Epoch 15/25\n",
      "\u001b[1m122/122\u001b[0m \u001b[32m━━━━━━━━━━━━━━━━━━━━\u001b[0m\u001b[37m\u001b[0m \u001b[1m356s\u001b[0m 3s/step - accuracy: 0.9830 - loss: 0.0707 - val_accuracy: 0.7829 - val_loss: 0.4494\n",
      "Epoch 16/25\n",
      "\u001b[1m122/122\u001b[0m \u001b[32m━━━━━━━━━━━━━━━━━━━━\u001b[0m\u001b[37m\u001b[0m \u001b[1m356s\u001b[0m 3s/step - accuracy: 0.9884 - loss: 0.0631 - val_accuracy: 0.8004 - val_loss: 0.4455\n",
      "Epoch 17/25\n",
      "\u001b[1m122/122\u001b[0m \u001b[32m━━━━━━━━━━━━━━━━━━━━\u001b[0m\u001b[37m\u001b[0m \u001b[1m356s\u001b[0m 3s/step - accuracy: 0.9914 - loss: 0.0569 - val_accuracy: 0.8014 - val_loss: 0.4287\n",
      "Epoch 18/25\n",
      "\u001b[1m122/122\u001b[0m \u001b[32m━━━━━━━━━━━━━━━━━━━━\u001b[0m\u001b[37m\u001b[0m \u001b[1m356s\u001b[0m 3s/step - accuracy: 0.9873 - loss: 0.0536 - val_accuracy: 0.7973 - val_loss: 0.4479\n",
      "Epoch 19/25\n",
      "\u001b[1m122/122\u001b[0m \u001b[32m━━━━━━━━━━━━━━━━━━━━\u001b[0m\u001b[37m\u001b[0m \u001b[1m356s\u001b[0m 3s/step - accuracy: 0.9908 - loss: 0.0447 - val_accuracy: 0.8107 - val_loss: 0.4310\n",
      "Epoch 20/25\n",
      "\u001b[1m122/122\u001b[0m \u001b[32m━━━━━━━━━━━━━━━━━━━━\u001b[0m\u001b[37m\u001b[0m \u001b[1m356s\u001b[0m 3s/step - accuracy: 0.9920 - loss: 0.0401 - val_accuracy: 0.8189 - val_loss: 0.4098\n",
      "Epoch 21/25\n",
      "\u001b[1m122/122\u001b[0m \u001b[32m━━━━━━━━━━━━━━━━━━━━\u001b[0m\u001b[37m\u001b[0m \u001b[1m356s\u001b[0m 3s/step - accuracy: 0.9921 - loss: 0.0479 - val_accuracy: 0.7922 - val_loss: 0.4499\n",
      "Epoch 22/25\n",
      "\u001b[1m122/122\u001b[0m \u001b[32m━━━━━━━━━━━━━━━━━━━━\u001b[0m\u001b[37m\u001b[0m \u001b[1m356s\u001b[0m 3s/step - accuracy: 0.9924 - loss: 0.0362 - val_accuracy: 0.8220 - val_loss: 0.3905\n",
      "Epoch 23/25\n",
      "\u001b[1m122/122\u001b[0m \u001b[32m━━━━━━━━━━━━━━━━━━━━\u001b[0m\u001b[37m\u001b[0m \u001b[1m357s\u001b[0m 3s/step - accuracy: 0.9952 - loss: 0.0339 - val_accuracy: 0.8056 - val_loss: 0.4343\n",
      "Epoch 24/25\n",
      "\u001b[1m122/122\u001b[0m \u001b[32m━━━━━━━━━━━━━━━━━━━━\u001b[0m\u001b[37m\u001b[0m \u001b[1m356s\u001b[0m 3s/step - accuracy: 0.9960 - loss: 0.0292 - val_accuracy: 0.8076 - val_loss: 0.4185\n",
      "Epoch 25/25\n",
      "\u001b[1m122/122\u001b[0m \u001b[32m━━━━━━━━━━━━━━━━━━━━\u001b[0m\u001b[37m\u001b[0m \u001b[1m356s\u001b[0m 3s/step - accuracy: 0.9961 - loss: 0.0278 - val_accuracy: 0.8066 - val_loss: 0.4205\n"
     ]
    }
   ],
   "source": [
    "from tensorflow.keras.callbacks import EarlyStopping\n",
    "from tensorflow.keras.callbacks import ReduceLROnPlateau\n",
    "\n",
    "# Definizione della callback EarlyStopping\n",
    "early_stopping = EarlyStopping(monitor='val_loss',  # Monitora la loss sul set di validazione\n",
    "                               patience=5,          # Numero di epoche senza miglioramenti prima di fermarsi\n",
    "                               restore_best_weights=True)  # Ripristina i pesi del miglior modello\n",
    "\n",
    "# Definizione della callback ReduceLROnPlateau\n",
    "reduce_lr = ReduceLROnPlateau(monitor='val_loss',  # Monitora la loss sul set di validazione\n",
    "                              factor=0.2,          # Fattore di riduzione del tasso di apprendimento\n",
    "                              patience=3,          # Numero di epoche senza miglioramenti prima di ridurre il tasso\n",
    "                              min_lr=1e-5)         # Limite inferiore per il tasso di apprendimento\n",
    "\n",
    "initial_epochs = 25\n",
    "\n",
    "# Train the model\n",
    "model_info = model.fit(\n",
    "    train_ds,\n",
    "    epochs=initial_epochs,\n",
    "    validation_data=test_ds,\n",
    "    class_weight=class_weights,\n",
    ")"
   ]
  },
  {
   "cell_type": "code",
   "execution_count": 71,
   "metadata": {},
   "outputs": [],
   "source": [
    "# model.save('my_model.h5')"
   ]
  },
  {
   "cell_type": "code",
   "execution_count": 72,
   "metadata": {},
   "outputs": [
    {
     "name": "stdout",
     "output_type": "stream",
     "text": [
      "[0.5682637691497803, 0.6555898785591125, 0.7418856024742126, 0.8183925747871399, 0.882019579410553, 0.9052035212516785, 0.9312210083007812, 0.9471921920776367, 0.9562081694602966, 0.9629057049751282, 0.9662545323371887, 0.9706336855888367, 0.9783616662025452, 0.9866048693656921, 0.9863472580909729, 0.9884080290794373, 0.9914992451667786, 0.9876352548599243, 0.9907264113426208, 0.9922720193862915, 0.9907264113426208, 0.9935600161552429, 0.9953632354736328, 0.9956207871437073, 0.996393620967865]\n"
     ]
    }
   ],
   "source": [
    "print(model_info.history['accuracy'])"
   ]
  },
  {
   "cell_type": "code",
   "execution_count": 73,
   "metadata": {},
   "outputs": [
    {
     "name": "stdout",
     "output_type": "stream",
     "text": [
      "[0.6111111044883728, 0.6512345671653748, 0.693415641784668, 0.7088477611541748, 0.7170782089233398, 0.7263374328613281, 0.7355967164039612, 0.748971164226532, 0.7705761194229126, 0.7664608955383301, 0.7808641791343689, 0.7788065671920776, 0.797325074672699, 0.798353910446167, 0.7829217910766602, 0.8004115223884583, 0.8014403581619263, 0.797325074672699, 0.8106995820999146, 0.8189300298690796, 0.7921810746192932, 0.8220164775848389, 0.8055555820465088, 0.8076131939888, 0.806584358215332]\n"
     ]
    }
   ],
   "source": [
    "print(model_info.history['val_accuracy'])"
   ]
  },
  {
   "cell_type": "code",
   "execution_count": 74,
   "metadata": {},
   "outputs": [
    {
     "data": {
      "image/png": "[encoded data removed]",
      "text/plain": [
       "<Figure size 1500x500 with 2 Axes>"
      ]
     },
     "metadata": {},
     "output_type": "display_data"
    }
   ],
   "source": [
    "def plot_train_history(history):\n",
    "    plt.figure(figsize=(15,5))\n",
    "    plt.subplot(1,2,1)\n",
    "    plt.plot(history.history['accuracy'])\n",
    "    plt.plot(history.history['val_accuracy'])\n",
    "    plt.title('Model accuracy')\n",
    "    plt.ylabel('accuracy')\n",
    "    plt.xlabel('epoch')\n",
    "    plt.legend(['train', 'validation'], loc='upper left')\n",
    "    \n",
    "    plt.subplot(1,2,2)\n",
    "    plt.plot(history.history['loss'])\n",
    "    plt.plot(history.history['val_loss'])\n",
    "    plt.title('Model loss')\n",
    "    plt.ylabel('loss')\n",
    "    plt.xlabel('epoch')\n",
    "    plt.legend(['train', 'validation'], loc='upper left')\n",
    "    plt.show()\n",
    "\n",
    "plot_train_history(model_info)"
   ]
  },
  {
   "cell_type": "code",
   "execution_count": 75,
   "metadata": {},
   "outputs": [
    {
     "name": "stdout",
     "output_type": "stream",
     "text": [
      "Epoch 25/40\n",
      "\u001b[1m122/122\u001b[0m \u001b[32m━━━━━━━━━━━━━━━━━━━━\u001b[0m\u001b[37m\u001b[0m \u001b[1m400s\u001b[0m 3s/step - accuracy: 0.9954 - loss: 0.0234 - val_accuracy: 0.8056 - val_loss: 0.4158\n",
      "Epoch 26/40\n",
      "\u001b[1m122/122\u001b[0m \u001b[32m━━━━━━━━━━━━━━━━━━━━\u001b[0m\u001b[37m\u001b[0m \u001b[1m394s\u001b[0m 3s/step - accuracy: 0.9956 - loss: 0.0247 - val_accuracy: 0.8066 - val_loss: 0.4167\n",
      "Epoch 27/40\n",
      "\u001b[1m122/122\u001b[0m \u001b[32m━━━━━━━━━━━━━━━━━━━━\u001b[0m\u001b[37m\u001b[0m \u001b[1m394s\u001b[0m 3s/step - accuracy: 0.9970 - loss: 0.0228 - val_accuracy: 0.8097 - val_loss: 0.4121\n",
      "Epoch 28/40\n",
      "\u001b[1m122/122\u001b[0m \u001b[32m━━━━━━━━━━━━━━━━━━━━\u001b[0m\u001b[37m\u001b[0m \u001b[1m393s\u001b[0m 3s/step - accuracy: 0.9966 - loss: 0.0248 - val_accuracy: 0.8035 - val_loss: 0.4201\n",
      "Epoch 29/40\n",
      "\u001b[1m122/122\u001b[0m \u001b[32m━━━━━━━━━━━━━━━━━━━━\u001b[0m\u001b[37m\u001b[0m \u001b[1m394s\u001b[0m 3s/step - accuracy: 0.9985 - loss: 0.0218 - val_accuracy: 0.8025 - val_loss: 0.4225\n",
      "Epoch 30/40\n",
      "\u001b[1m122/122\u001b[0m \u001b[32m━━━━━━━━━━━━━━━━━━━━\u001b[0m\u001b[37m\u001b[0m \u001b[1m394s\u001b[0m 3s/step - accuracy: 0.9973 - loss: 0.0211 - val_accuracy: 0.8117 - val_loss: 0.4058\n",
      "Epoch 31/40\n",
      "\u001b[1m122/122\u001b[0m \u001b[32m━━━━━━━━━━━━━━━━━━━━\u001b[0m\u001b[37m\u001b[0m \u001b[1m16457s\u001b[0m 136s/step - accuracy: 0.9973 - loss: 0.0227 - val_accuracy: 0.8014 - val_loss: 0.4193\n",
      "Epoch 32/40\n",
      "\u001b[1m122/122\u001b[0m \u001b[32m━━━━━━━━━━━━━━━━━━━━\u001b[0m\u001b[37m\u001b[0m \u001b[1m400s\u001b[0m 3s/step - accuracy: 0.9954 - loss: 0.0253 - val_accuracy: 0.7973 - val_loss: 0.4282\n",
      "Epoch 33/40\n",
      "\u001b[1m122/122\u001b[0m \u001b[32m━━━━━━━━━━━━━━━━━━━━\u001b[0m\u001b[37m\u001b[0m \u001b[1m398s\u001b[0m 3s/step - accuracy: 0.9996 - loss: 0.0189 - val_accuracy: 0.8035 - val_loss: 0.4125\n",
      "Epoch 34/40\n",
      "\u001b[1m122/122\u001b[0m \u001b[32m━━━━━━━━━━━━━━━━━━━━\u001b[0m\u001b[37m\u001b[0m \u001b[1m396s\u001b[0m 3s/step - accuracy: 0.9987 - loss: 0.0176 - val_accuracy: 0.8025 - val_loss: 0.4170\n",
      "Epoch 35/40\n",
      "\u001b[1m122/122\u001b[0m \u001b[32m━━━━━━━━━━━━━━━━━━━━\u001b[0m\u001b[37m\u001b[0m \u001b[1m411s\u001b[0m 3s/step - accuracy: 0.9954 - loss: 0.0234 - val_accuracy: 0.7973 - val_loss: 0.4247\n",
      "Epoch 36/40\n",
      "\u001b[1m122/122\u001b[0m \u001b[32m━━━━━━━━━━━━━━━━━━━━\u001b[0m\u001b[37m\u001b[0m \u001b[1m402s\u001b[0m 3s/step - accuracy: 0.9964 - loss: 0.0215 - val_accuracy: 0.7963 - val_loss: 0.4336\n",
      "Epoch 37/40\n",
      "\u001b[1m122/122\u001b[0m \u001b[32m━━━━━━━━━━━━━━━━━━━━\u001b[0m\u001b[37m\u001b[0m \u001b[1m399s\u001b[0m 3s/step - accuracy: 0.9974 - loss: 0.0243 - val_accuracy: 0.7973 - val_loss: 0.4336\n",
      "Epoch 38/40\n",
      "\u001b[1m122/122\u001b[0m \u001b[32m━━━━━━━━━━━━━━━━━━━━\u001b[0m\u001b[37m\u001b[0m \u001b[1m398s\u001b[0m 3s/step - accuracy: 0.9945 - loss: 0.0272 - val_accuracy: 0.7994 - val_loss: 0.4198\n",
      "Epoch 39/40\n",
      "\u001b[1m122/122\u001b[0m \u001b[32m━━━━━━━━━━━━━━━━━━━━\u001b[0m\u001b[37m\u001b[0m \u001b[1m398s\u001b[0m 3s/step - accuracy: 0.9959 - loss: 0.0259 - val_accuracy: 0.7953 - val_loss: 0.4368\n",
      "Epoch 40/40\n",
      "\u001b[1m122/122\u001b[0m \u001b[32m━━━━━━━━━━━━━━━━━━━━\u001b[0m\u001b[37m\u001b[0m \u001b[1m397s\u001b[0m 3s/step - accuracy: 0.9986 - loss: 0.0190 - val_accuracy: 0.7994 - val_loss: 0.4339\n"
     ]
    }
   ],
   "source": [
    "# Scongela alcuni dei livelli convoluzionali del modello base per fare fine-tuning\n",
    "for layer in base_model.layers[-4:]:  # Scongela gli ultimi 4 livelli convoluzionali\n",
    "    layer.trainable = True\n",
    "\n",
    "# Ricompila il modello con un learning rate più basso\n",
    "model.compile(optimizer=RMSprop(learning_rate=1e-7), loss='categorical_crossentropy', metrics=['accuracy'])\n",
    "\n",
    "# Continua l'addestramento con fine-tuning\n",
    "fine_tuning_epochs = 15\n",
    "total_epochs = initial_epochs + fine_tuning_epochs\n",
    "\n",
    "fine_tuning_info = model.fit(\n",
    "    train_ds,\n",
    "    epochs=total_epochs,\n",
    "    initial_epoch=model_info.epoch[-1],  # Inizia dal punto in cui l'addestramento precedente si è fermato\n",
    "    validation_data=test_ds,\n",
    "    class_weight=class_weights,\n",
    ")"
   ]
  },
  {
   "cell_type": "code",
   "execution_count": 76,
   "metadata": {},
   "outputs": [
    {
     "data": {
      "image/png": "[encoded data removed]",
      "text/plain": [
       "<Figure size 1000x200 with 2 Axes>"
      ]
     },
     "metadata": {},
     "output_type": "display_data"
    }
   ],
   "source": [
    "def plot_train_history(history):\n",
    "    plt.figure(figsize=(10,2))\n",
    "    plt.subplot(1,2,1)\n",
    "    plt.plot(history.history['accuracy'])\n",
    "    plt.plot(history.history['val_accuracy'])\n",
    "    plt.title('Model accuracy')\n",
    "    plt.ylabel('accuracy')\n",
    "    plt.xlabel('epoch')\n",
    "    plt.ylim(0, 1.2)  # Limiti dell'asse y tra 0 e 1\n",
    "    plt.legend(['train', 'validation'], loc='upper left')\n",
    "    \n",
    "    plt.subplot(1,2,2)\n",
    "    plt.plot(history.history['loss'])\n",
    "    plt.plot(history.history['val_loss'])\n",
    "    plt.title('Model loss')\n",
    "    plt.ylabel('loss')\n",
    "    plt.xlabel('epoch')\n",
    "    plt.legend(['train', 'validation'], loc='upper left')\n",
    "    plt.ylim(0, 1)\n",
    "    plt.show()\n",
    "plot_train_history(fine_tuning_info)"
   ]
  },
  {
   "cell_type": "code",
   "execution_count": 77,
   "metadata": {},
   "outputs": [],
   "source": [
    "# model=load_model(classifier)\n",
    "# print(\"Glaucoma detection model loaded\")"
   ]
  },
  {
   "cell_type": "code",
   "execution_count": 78,
   "metadata": {},
   "outputs": [],
   "source": [
    "def glaucoma_prediction(test_image):\n",
    "  image = img_to_array(test_image)\n",
    "  image = np.expand_dims(image, axis = 0)\n",
    "  result = np.argmax(model.predict(image))\n",
    "  return result"
   ]
  },
  {
   "cell_type": "code",
   "execution_count": 79,
   "metadata": {},
   "outputs": [
    {
     "ename": "NameError",
     "evalue": "name 'origa' is not defined",
     "output_type": "error",
     "traceback": [
      "\u001b[1;31m---------------------------------------------------------------------------\u001b[0m",
      "\u001b[1;31mNameError\u001b[0m                                 Traceback (most recent call last)",
      "Cell \u001b[1;32mIn[79], line 2\u001b[0m\n\u001b[0;32m      1\u001b[0m \u001b[38;5;66;03m# glaucoma img\u001b[39;00m\n\u001b[1;32m----> 2\u001b[0m test_image \u001b[38;5;241m=\u001b[39m load_img(\u001b[43moriga\u001b[49m \u001b[38;5;241m+\u001b[39m \u001b[38;5;124m'\u001b[39m\u001b[38;5;124m/036.jpg\u001b[39m\u001b[38;5;124m'\u001b[39m, target_size \u001b[38;5;241m=\u001b[39m (\u001b[38;5;241m256\u001b[39m,\u001b[38;5;241m256\u001b[39m))\n\u001b[0;32m      3\u001b[0m prediction \u001b[38;5;241m=\u001b[39m glaucoma_prediction(test_image)\n\u001b[0;32m      4\u001b[0m \u001b[38;5;28;01mif\u001b[39;00m prediction \u001b[38;5;241m==\u001b[39m \u001b[38;5;241m0\u001b[39m:\n",
      "\u001b[1;31mNameError\u001b[0m: name 'origa' is not defined"
     ]
    }
   ],
   "source": [
    "# glaucoma img\n",
    "test_image = load_img(origa + '/036.jpg', target_size = (256,256))\n",
    "prediction = glaucoma_prediction(test_image)\n",
    "if prediction == 0:\n",
    " print(\"Glaucoma\")\n",
    "else:\n",
    " print(\"Not Glaucoma\")"
   ]
  },
  {
   "cell_type": "code",
   "execution_count": null,
   "metadata": {},
   "outputs": [
    {
     "name": "stdout",
     "output_type": "stream",
     "text": [
      "\u001b[1m1/1\u001b[0m \u001b[32m━━━━━━━━━━━━━━━━━━━━\u001b[0m\u001b[37m\u001b[0m \u001b[1m0s\u001b[0m 161ms/step\n",
      "Glaucoma\n"
     ]
    }
   ],
   "source": [
    "# not glaucoma img\n",
    "test_image = load_img(origa + '/642.jpg', target_size = (256,256))\n",
    "prediction = glaucoma_prediction(test_image)\n",
    "if prediction == 0:\n",
    " print(\"Glaucoma\")\n",
    "else:\n",
    " print(\"Not Glaucoma\")"
   ]
  },
  {
   "cell_type": "code",
   "execution_count": null,
   "metadata": {},
   "outputs": [
    {
     "name": "stdout",
     "output_type": "stream",
     "text": [
      "\u001b[1m4/4\u001b[0m \u001b[32m━━━━━━━━━━━━━━━━━━━━\u001b[0m\u001b[37m\u001b[0m \u001b[1m7s\u001b[0m 1s/step - accuracy: 0.5511 - loss: 0.8459\n",
      "Loss: 0.7952587008476257 Accuracy: 0.5757575631141663\n"
     ]
    }
   ],
   "source": [
    "# evaluate model accuracy\n",
    "score=model.evaluate(test_ds)\n",
    "print(\"Loss:\",score[0],\"Accuracy:\",score[1])"
   ]
  },
  {
   "cell_type": "code",
   "execution_count": null,
   "metadata": {},
   "outputs": [],
   "source": [
    "from sklearn.metrics import classification_report,confusion_matrix\n",
    "import seaborn as sb"
   ]
  },
  {
   "cell_type": "code",
   "execution_count": null,
   "metadata": {},
   "outputs": [
    {
     "name": "stdout",
     "output_type": "stream",
     "text": [
      "\u001b[1m4/4\u001b[0m \u001b[32m━━━━━━━━━━━━━━━━━━━━\u001b[0m\u001b[37m\u001b[0m \u001b[1m7s\u001b[0m 2s/step\n",
      "[[10 26]\n",
      " [16 47]]\n"
     ]
    }
   ],
   "source": [
    "pred= np.round(model.predict(test_ds, verbose=1))\n",
    "test_labels=test_ds.labels\n",
    "test_pred_labels=[]\n",
    "for i in range(len(pred)):\n",
    "  test_pred_labels.append(np.argmax(pred[i]))\n",
    "conf_matrix= confusion_matrix(test_pred_labels,test_labels)\n",
    "print (conf_matrix)"
   ]
  },
  {
   "cell_type": "code",
   "execution_count": null,
   "metadata": {},
   "outputs": [
    {
     "data": {
      "image/png": "[encoded data removed]",
      "text/plain": [
       "<Figure size 640x480 with 2 Axes>"
      ]
     },
     "metadata": {},
     "output_type": "display_data"
    }
   ],
   "source": [
    "sb.heatmap(conf_matrix,cmap='Purples', annot=True,xticklabels=['glaucoma','normal'],yticklabels=['glaucoma','normal'],linewidths=1,\n",
    "                linecolor='green').plot()\n",
    "plt.show()\n"
   ]
  },
  {
   "cell_type": "code",
   "execution_count": null,
   "metadata": {},
   "outputs": [
    {
     "data": {
      "text/html": [
       "<div>\n",
       "<style scoped>\n",
       "    .dataframe tbody tr th:only-of-type {\n",
       "        vertical-align: middle;\n",
       "    }\n",
       "\n",
       "    .dataframe tbody tr th {\n",
       "        vertical-align: top;\n",
       "    }\n",
       "\n",
       "    .dataframe thead th {\n",
       "        text-align: right;\n",
       "    }\n",
       "</style>\n",
       "<table border=\"1\" class=\"dataframe\">\n",
       "  <thead>\n",
       "    <tr style=\"text-align: right;\">\n",
       "      <th></th>\n",
       "      <th>precision</th>\n",
       "      <th>recall</th>\n",
       "      <th>f1-score</th>\n",
       "      <th>support</th>\n",
       "    </tr>\n",
       "  </thead>\n",
       "  <tbody>\n",
       "    <tr>\n",
       "      <th>glaucoma</th>\n",
       "      <td>0.277778</td>\n",
       "      <td>0.384615</td>\n",
       "      <td>0.322581</td>\n",
       "      <td>26.000000</td>\n",
       "    </tr>\n",
       "    <tr>\n",
       "      <th>normal</th>\n",
       "      <td>0.746032</td>\n",
       "      <td>0.643836</td>\n",
       "      <td>0.691176</td>\n",
       "      <td>73.000000</td>\n",
       "    </tr>\n",
       "    <tr>\n",
       "      <th>accuracy</th>\n",
       "      <td>0.575758</td>\n",
       "      <td>0.575758</td>\n",
       "      <td>0.575758</td>\n",
       "      <td>0.575758</td>\n",
       "    </tr>\n",
       "    <tr>\n",
       "      <th>macro avg</th>\n",
       "      <td>0.511905</td>\n",
       "      <td>0.514226</td>\n",
       "      <td>0.506879</td>\n",
       "      <td>99.000000</td>\n",
       "    </tr>\n",
       "    <tr>\n",
       "      <th>weighted avg</th>\n",
       "      <td>0.623056</td>\n",
       "      <td>0.575758</td>\n",
       "      <td>0.594374</td>\n",
       "      <td>99.000000</td>\n",
       "    </tr>\n",
       "  </tbody>\n",
       "</table>\n",
       "</div>"
      ],
      "text/plain": [
       "              precision    recall  f1-score    support\n",
       "glaucoma       0.277778  0.384615  0.322581  26.000000\n",
       "normal         0.746032  0.643836  0.691176  73.000000\n",
       "accuracy       0.575758  0.575758  0.575758   0.575758\n",
       "macro avg      0.511905  0.514226  0.506879  99.000000\n",
       "weighted avg   0.623056  0.575758  0.594374  99.000000"
      ]
     },
     "execution_count": 352,
     "metadata": {},
     "output_type": "execute_result"
    }
   ],
   "source": [
    "test_report = classification_report(test_ds.labels,test_pred_labels, target_names=['glaucoma','normal'], output_dict=True)\n",
    "test_df = pd.DataFrame(test_report).transpose()\n",
    "test_df"
   ]
  },
  {
   "cell_type": "code",
   "execution_count": null,
   "metadata": {},
   "outputs": [],
   "source": []
  }
 ],
 "metadata": {
  "kernelspec": {
   "display_name": "Python 3.12.2 64-bit",
   "language": "python",
   "name": "python3"
  },
  "language_info": {
   "codemirror_mode": {
    "name": "ipython",
    "version": 3
   },
   "file_extension": ".py",
   "mimetype": "text/x-python",
   "name": "python",
   "nbconvert_exporter": "python",
   "pygments_lexer": "ipython3",
   "version": "3.12.3"
  },
  "orig_nbformat": 4,
  "vscode": {
   "interpreter": {
    "hash": "aee8b7b246df8f9039afb4144a1f6fd8d2ca17a180786b69acc140d282b71a49"
   }
  }
 },
 "nbformat": 4,
 "nbformat_minor": 2
}
